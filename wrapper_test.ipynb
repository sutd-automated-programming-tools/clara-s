{
 "cells": [
  {
   "cell_type": "code",
   "execution_count": 1,
   "metadata": {},
   "outputs": [
    {
     "name": "stdout",
     "output_type": "stream",
     "text": [
      "3.8.5 (default, Jan 27 2021, 15:41:15) \n",
      "[GCC 9.3.0]\n"
     ]
    }
   ],
   "source": [
    "import sys\n",
    "print(sys.version)"
   ]
  },
  {
   "cell_type": "code",
   "execution_count": 2,
   "metadata": {},
   "outputs": [
    {
     "name": "stdout",
     "output_type": "stream",
     "text": [
      "/usr/local/cuda-10.1/lib64:/usr/local/cuda-10.1/extras/CUPTI/lib64:/usr/lib/lp_solve:/usr/lib/lp_solve/\r\n"
     ]
    }
   ],
   "source": [
    "!echo $LD_LIBRARY_PATH"
   ]
  },
  {
   "cell_type": "code",
   "execution_count": 3,
   "metadata": {},
   "outputs": [],
   "source": [
    "from clara_wrapper import Clara"
   ]
  },
  {
   "cell_type": "code",
   "execution_count": 4,
   "metadata": {},
   "outputs": [],
   "source": [
    "clara = Clara()"
   ]
  },
  {
   "cell_type": "code",
   "execution_count": 5,
   "metadata": {},
   "outputs": [
    {
     "name": "stdout",
     "output_type": "stream",
     "text": [
      "fun computeDeriv (poly: *) : *\n",
      "---------------------------------------------------------------------\n",
      "poly : *, result : *, e : *, iter#0 : *, ind#0 : int\n",
      "\n",
      "Loc 1 (around the beginning of function 'computeDeriv')\n",
      "---------------------------------------\n",
      "  result := ListInit()\n",
      "  iter#0 := range(1, len(poly))\n",
      "  ind#0 := 0\n",
      "---------------------------------------\n",
      "  True -> 2   False -> None\n",
      "\n",
      "Loc 2 (the condition of the 'for' loop at line 3)\n",
      "---------------------------------------\n",
      "  $cond := Lt(ind#0, len(iter#0))\n",
      "---------------------------------------\n",
      "  True -> 4   False -> 3\n",
      "\n",
      "Loc 3 (*after* the 'for' loop starting at line 3)\n",
      "---------------------------------------\n",
      "  $ret := ite(Eq(result, ListInit()), ListInit(0.0), result)\n",
      "---------------------------------------\n",
      "  True -> None   False -> None\n",
      "\n",
      "Loc 4 (inside the body of the 'for' loop beginning at line 4)\n",
      "---------------------------------------\n",
      "  e := GetElement(iter#0, ind#0)\n",
      "  ind#0 := Add(ind#0, 1)\n",
      "  result := append(result, float(Mult(GetElement(poly, e'), e')))\n",
      "---------------------------------------\n",
      "  True -> 2   False -> None\n"
     ]
    }
   ],
   "source": [
    "model = clara.process_source('examples/c1.py')\n",
    "print(model)"
   ]
  },
  {
   "cell_type": "code",
   "execution_count": null,
   "metadata": {},
   "outputs": [],
   "source": []
  }
 ],
 "metadata": {
  "kernelspec": {
   "display_name": "Python 3",
   "language": "python",
   "name": "python3"
  },
  "language_info": {
   "codemirror_mode": {
    "name": "ipython",
    "version": 3
   },
   "file_extension": ".py",
   "mimetype": "text/x-python",
   "name": "python",
   "nbconvert_exporter": "python",
   "pygments_lexer": "ipython3",
   "version": "3.8.5"
  }
 },
 "nbformat": 4,
 "nbformat_minor": 4
}
